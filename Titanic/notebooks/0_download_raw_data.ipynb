{
 "cells": [
  {
   "cell_type": "code",
   "execution_count": 1,
   "id": "16e405c7-8c00-4840-8dc8-7109f8f5ea2e",
   "metadata": {},
   "outputs": [
    {
     "name": "stdout",
     "output_type": "stream",
     "text": [
      "Requirement already satisfied: kaggle in /home/andrew/Projects/KaggleCompetitions/Titanic/venv/lib/python3.12/site-packages (1.6.17)\n",
      "Requirement already satisfied: six>=1.10 in /home/andrew/Projects/KaggleCompetitions/Titanic/venv/lib/python3.12/site-packages (from kaggle) (1.16.0)\n",
      "Requirement already satisfied: certifi>=2023.7.22 in /home/andrew/Projects/KaggleCompetitions/Titanic/venv/lib/python3.12/site-packages (from kaggle) (2024.8.30)\n",
      "Requirement already satisfied: python-dateutil in /home/andrew/Projects/KaggleCompetitions/Titanic/venv/lib/python3.12/site-packages (from kaggle) (2.9.0)\n",
      "Requirement already satisfied: requests in /home/andrew/Projects/KaggleCompetitions/Titanic/venv/lib/python3.12/site-packages (from kaggle) (2.32.3)\n",
      "Requirement already satisfied: tqdm in /home/andrew/Projects/KaggleCompetitions/Titanic/venv/lib/python3.12/site-packages (from kaggle) (4.67.0)\n",
      "Requirement already satisfied: python-slugify in /home/andrew/Projects/KaggleCompetitions/Titanic/venv/lib/python3.12/site-packages (from kaggle) (8.0.4)\n",
      "Requirement already satisfied: urllib3 in /home/andrew/Projects/KaggleCompetitions/Titanic/venv/lib/python3.12/site-packages (from kaggle) (2.2.3)\n",
      "Requirement already satisfied: bleach in /home/andrew/Projects/KaggleCompetitions/Titanic/venv/lib/python3.12/site-packages (from kaggle) (6.2.0)\n",
      "Requirement already satisfied: webencodings in /home/andrew/Projects/KaggleCompetitions/Titanic/venv/lib/python3.12/site-packages (from bleach->kaggle) (0.5.1)\n",
      "Requirement already satisfied: text-unidecode>=1.3 in /home/andrew/Projects/KaggleCompetitions/Titanic/venv/lib/python3.12/site-packages (from python-slugify->kaggle) (1.3)\n",
      "Requirement already satisfied: charset-normalizer<4,>=2 in /home/andrew/Projects/KaggleCompetitions/Titanic/venv/lib/python3.12/site-packages (from requests->kaggle) (3.4.0)\n",
      "Requirement already satisfied: idna<4,>=2.5 in /home/andrew/Projects/KaggleCompetitions/Titanic/venv/lib/python3.12/site-packages (from requests->kaggle) (3.10)\n",
      "Warning: Your Kaggle API key is readable by other users on this system! To fix this, you can run 'chmod 600 /home/andrew/.kaggle/kaggle.json'\n",
      "Warning: Your Kaggle API key is readable by other users on this system! To fix this, you can run 'chmod 600 /home/andrew/.kaggle/kaggle.json'\n",
      "Downloading train.csv to ../data/raw\n"
     ]
    },
    {
     "name": "stderr",
     "output_type": "stream",
     "text": [
      "100%|████████████████████████████████████████████████████████████████████████████| 59.8k/59.8k [00:00<00:00, 1.49MB/s]"
     ]
    },
    {
     "name": "stdout",
     "output_type": "stream",
     "text": [
      "\n"
     ]
    },
    {
     "name": "stderr",
     "output_type": "stream",
     "text": [
      "\n"
     ]
    },
    {
     "name": "stdout",
     "output_type": "stream",
     "text": [
      "Downloading test.csv to ../data/raw\n"
     ]
    },
    {
     "name": "stderr",
     "output_type": "stream",
     "text": [
      "100%|████████████████████████████████████████████████████████████████████████████| 28.0k/28.0k [00:00<00:00, 13.2MB/s]"
     ]
    },
    {
     "name": "stdout",
     "output_type": "stream",
     "text": [
      "\n"
     ]
    },
    {
     "name": "stderr",
     "output_type": "stream",
     "text": [
      "\n"
     ]
    }
   ],
   "source": [
    "!pip install kaggle  # Ensure the Kaggle API is installed\n",
    "import os\n",
    "from kaggle.api.kaggle_api_extended import KaggleApi\n",
    "\n",
    "# Set up Kaggle API client\n",
    "api = KaggleApi()\n",
    "api.authenticate()\n",
    "\n",
    "# Download Titanic dataset\n",
    "api.competition_download_file('titanic', 'train.csv', path='../data/raw')\n",
    "api.competition_download_file('titanic', 'test.csv', path='../data/raw')\n"
   ]
  },
  {
   "cell_type": "code",
   "execution_count": null,
   "id": "d2c51a8b-d77c-4dc7-be05-c5b93261bf98",
   "metadata": {},
   "outputs": [],
   "source": []
  }
 ],
 "metadata": {
  "kernelspec": {
   "display_name": "Python 3 (ipykernel)",
   "language": "python",
   "name": "python3"
  },
  "language_info": {
   "codemirror_mode": {
    "name": "ipython",
    "version": 3
   },
   "file_extension": ".py",
   "mimetype": "text/x-python",
   "name": "python",
   "nbconvert_exporter": "python",
   "pygments_lexer": "ipython3",
   "version": "3.12.2"
  }
 },
 "nbformat": 4,
 "nbformat_minor": 5
}
